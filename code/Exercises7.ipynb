{
 "cells": [
  {
   "cell_type": "markdown",
   "metadata": {},
   "source": [
    "#### 問題7-1\n",
    "\n",
    "バスがバス停に 20 分ごとに到着し、乗客がバス停にランダムに来るとしたら、バス\n",
    "が到着するまで乗客が待つ時間は、0 から 20 分の間に一様に分布する。\n",
    "\n",
    "しかし、実際は、バスの間隔に変動がある。乗客がバスを待っていると仮定し、さ らに、バスの過去の時間間隔も知っているとして、待ち時間の分布を計算せよ。\n",
    "\n",
    "ヒント:バスの間隔が 5 分か 10 分かのどちらかに等しい確率でなっていると仮定しよ う。あなたが、10 分間隔のどれかにバス停に着く確率はどれぐらいか。"
   ]
  },
  {
   "cell_type": "markdown",
   "metadata": {},
   "source": [
    "Exercise 7.1.\n",
    "\n",
    "If buses arrive at a bus stop every 20 minutes, and you arrive at\n",
    "the bus stop at a random time, your wait time until the bus arrives is uniformly\n",
    "distributed from 0 to 20 minutes.\n",
    "\n",
    "But in reality, there is variability in the time between buses. Suppose you are\n",
    "waiting for a bus, and you know the historical distribution of time between buses.\n",
    "Compute your distribution of wait times.\n",
    "\n",
    "Hint: Suppose that the time between buses is either 5 or 10 minutes with equal\n",
    "probability. What is the probability that you arrive during one of the 10 minute\n",
    "intervals?"
   ]
  },
  {
   "cell_type": "markdown",
   "metadata": {},
   "source": [
    "(追記)\n",
    "5分間隔のバスと10分間隔のバスが同じ本数で走っている．\n",
    "5分のギャップの間のどこかで到着するよりは10分のギャップのどこかで駅に到着する可能性の方が2倍高い(section 8.2)"
   ]
  },
  {
   "cell_type": "code",
   "execution_count": 22,
   "metadata": {
    "collapsed": false
   },
   "outputs": [],
   "source": [
    "import math\n",
    "import columns\n",
    "import thinkbayes\n",
    "import thinkstats \n",
    "import thinkplot \n",
    "import matplotlib.pyplot as plt\n",
    "%matplotlib inline\n",
    "import seaborn"
   ]
  },
  {
   "cell_type": "code",
   "execution_count": 82,
   "metadata": {
    "collapsed": true
   },
   "outputs": [],
   "source": [
    "\n",
    "metapmf = thinkbayes.Pmf()"
   ]
  },
  {
   "cell_type": "code",
   "execution_count": 83,
   "metadata": {
    "collapsed": false
   },
   "outputs": [],
   "source": [
    "uniform5 = thinkbayes.MakeUniformPmf(0,4,5)\n",
    "uniform10 = thinkbayes.MakeUniformPmf(0,9,10)"
   ]
  },
  {
   "cell_type": "code",
   "execution_count": 84,
   "metadata": {
    "collapsed": false
   },
   "outputs": [],
   "source": [
    "metapmf.Set(uniform5, 1)\n",
    "metapmf.Set(uniform10, 2) # 10分間隔のバスにのる確率の方が高い\n",
    "metapmf.Normalize()\n",
    "mix = thinkbayes.MakeMixture(metapmf)   "
   ]
  },
  {
   "cell_type": "code",
   "execution_count": 85,
   "metadata": {
    "collapsed": false
   },
   "outputs": [
    {
     "data": {
      "text/plain": [
       "<matplotlib.text.Text at 0x11c37e390>"
      ]
     },
     "execution_count": 85,
     "metadata": {},
     "output_type": "execute_result"
    },
    {
     "data": {
      "image/png": "[encoded data removed]",
      "text/plain": [
       "<matplotlib.figure.Figure at 0x11b4e3b50>"
      ]
     },
     "metadata": {},
     "output_type": "display_data"
    }
   ],
   "source": [
    "x = range(11)\n",
    "y=[mix.Prob(i) for i in range(11)]\n",
    "plt.bar(x, y)\n",
    "plt.xlabel(\"wait time\")\n",
    "plt.ylabel(\"probability\")"
   ]
  },
  {
   "cell_type": "markdown",
   "metadata": {},
   "source": [
    "#### 問題7-2\n",
    "\n",
    "乗客がバス停に着くのが、パラメータ λ のポワソン過程でうまくモデル化できると仮定する。あなたがバス停に着くと 3 人待っていたとしたら、直前のバスが到着してから の時間の事後確率分布はどうなるか。"
   ]
  },
  {
   "cell_type": "markdown",
   "metadata": {},
   "source": [
    "Exercise 7.2. Suppose that passengers arriving at the bus stop are well-modeled\n",
    "by a Poisson process with parameter λ. If you arrive at the stop and find 3 people\n",
    "waiting, what is your posterior distribution for the time since the last bus arrived."
   ]
  },
  {
   "cell_type": "markdown",
   "metadata": {},
   "source": [
    "(追記)\n",
    "乗客の到着をポアソン過程として扱う．1分あたりの到着乗客数をλであるとする(section 8.2)"
   ]
  },
  {
   "cell_type": "markdown",
   "metadata": {},
   "source": [
    " #### 問題 7-3\n",
    "あなたが、新しい環境での昆虫の分布のサンプルを採集している生態学者だと仮定\n",
    "しよう。調査領域に 100 個の罠を仕掛け、次の日にそれらを調べる。37 の罠に作動し た痕跡があり、かかったのは一匹だった。罠は作動すると、設定し直すまで昆虫を捕 まえることができない。\n",
    "2 日間で罠を仕掛け直したとすると、いくつの罠が作動するものと期待するか。罠の 個数の事後確率分布を計算せよ。"
   ]
  },
  {
   "cell_type": "markdown",
   "metadata": {},
   "source": [
    "Exercise 7.3. Suppose that you are an ecologist sampling the insect population in\n",
    "a new environment. You deploy 100 traps in a test area and come back the next day\n",
    "to check on them. You find that 37 traps have been triggered, trapping an insect\n",
    "inside. Once a trap triggers, it cannot trap another insect until it has been reset.\n",
    "If you reset the traps and come back in two days, how many traps do you expect to\n",
    "find triggered? Compute a posterior predictive distribution for the number of traps."
   ]
  },
  {
   "cell_type": "code",
   "execution_count": null,
   "metadata": {
    "collapsed": false
   },
   "outputs": [],
   "source": []
  },
  {
   "cell_type": "code",
   "execution_count": null,
   "metadata": {
    "collapsed": true
   },
   "outputs": [],
   "source": []
  }
 ],
 "metadata": {
  "kernelspec": {
   "display_name": "Python 2",
   "language": "python",
   "name": "python2"
  },
  "language_info": {
   "codemirror_mode": {
    "name": "ipython",
    "version": 2
   },
   "file_extension": ".py",
   "mimetype": "text/x-python",
   "name": "python",
   "nbconvert_exporter": "python",
   "pygments_lexer": "ipython2",
   "version": "2.7.11"
  }
 },
 "nbformat": 4,
 "nbformat_minor": 0
}
