{
 "cells": [
  {
   "cell_type": "markdown",
   "metadata": {
    "slideshow": {
     "slide_type": "slide"
    }
   },
   "source": [
    "# More Estimation"
   ]
  },
  {
   "cell_type": "markdown",
   "metadata": {
    "slideshow": {
     "slide_type": "slide"
    }
   },
   "source": [
    "> ベルギーの 1 ユーロ硬貨を 250 回指ではじいて回してみたところ、表が 140 回、裏が 110 回出た。\n",
    "ロンドン・スクール・オブ・エコノミクス（ LSE ）の統計学の講師である Barry Bright は、「非常に怪しい」「硬貨に偏りがないなら、このような極端な結果の出る確率は 7% より小さい」と語っている。\n",
    "\n",
    "この問題は本当に正しいことを言っているのか"
   ]
  },
  {
   "cell_type": "code",
   "execution_count": 5,
   "metadata": {
    "collapsed": true,
    "slideshow": {
     "slide_type": "skip"
    }
   },
   "outputs": [],
   "source": [
    "import thinkbayes\n",
    "import thinkplot\n",
    "from thinkbayes import Suite\n",
    "import matplotlib.pyplot as plt\n",
    "%matplotlib inline\n",
    "import seaborn"
   ]
  },
  {
   "cell_type": "code",
   "execution_count": 6,
   "metadata": {
    "collapsed": true,
    "slideshow": {
     "slide_type": "skip"
    }
   },
   "outputs": [],
   "source": [
    "def print_suite(suite):\n",
    "    X = [];Y = []\n",
    "    for x,y in suite.Items():\n",
    "        X.append(x)\n",
    "        Y.append(y)\n",
    "\n",
    "    plt.plot(X,Y)"
   ]
  },
  {
   "cell_type": "markdown",
   "metadata": {
    "slideshow": {
     "slide_type": "slide"
    }
   },
   "source": [
    "### 4.1 ユーロ硬貨問題"
   ]
  },
  {
   "cell_type": "code",
   "execution_count": 7,
   "metadata": {
    "collapsed": false,
    "slideshow": {
     "slide_type": "-"
    }
   },
   "outputs": [],
   "source": [
    "# H_x が、 x の値 0 から 100 についての、表の出る確率が x%であるという101個の仮説を立てる\n",
    "# 一様仮説\n",
    "class Euro(Suite):\n",
    "\n",
    "    def Likelihood(self, data, hypo):\n",
    "        x = hypo\n",
    "        if data == 'H':\n",
    "            return x/100.0\n",
    "        else:\n",
    "            return 1 - x/100.0"
   ]
  },
  {
   "cell_type": "code",
   "execution_count": 8,
   "metadata": {
    "collapsed": false,
    "slideshow": {
     "slide_type": "slide"
    }
   },
   "outputs": [
    {
     "data": {
      "image/png": "[encoded data removed]",
      "text/plain": [
       "<matplotlib.figure.Figure at 0x9c5bda0>"
      ]
     },
     "metadata": {},
     "output_type": "display_data"
    }
   ],
   "source": [
    "# Test\n",
    "suite = Euro(xrange(0, 101))\n",
    "dataset = 'H' * 140 + 'T' * 110\n",
    "for data in dataset:\n",
    "    suite.Update(data)\n",
    "\n",
    "print_suite(suite)"
   ]
  },
  {
   "cell_type": "markdown",
   "metadata": {
    "slideshow": {
     "slide_type": "slide"
    }
   },
   "source": [
    "### 4.2 事後確率を求める"
   ]
  },
  {
   "cell_type": "markdown",
   "metadata": {},
   "source": [
    "#### 方式1　事後確率分布において最もあり得る値を返す"
   ]
  },
  {
   "cell_type": "markdown",
   "metadata": {},
   "source": [
    "#### 方式1の実装\n",
    "すでに実装してある\n",
    "```python\n",
    "def MaximumLikelihood(pmf):\n",
    "    \"\"\"Returns the value with the highest probability.\"\"\"\n",
    "    prob, val = max((prob, val) for val, prob in pmf.Items())\n",
    "    return val\n",
    "```"
   ]
  },
  {
   "cell_type": "code",
   "execution_count": 9,
   "metadata": {
    "collapsed": false
   },
   "outputs": [
    {
     "name": "stdout",
     "output_type": "stream",
     "text": [
      "Maximum likehood 56\n",
      "Mean 55.9523809524\n",
      "Median 56\n",
      "CI (51, 61)\n"
     ]
    }
   ],
   "source": [
    "print \"Maximum likehood\", suite.MaximumLikelihood()\n",
    "print 'Mean', suite.Mean()\n",
    "print 'Median', thinkbayes.Percentile(suite, 50)\n",
    "print 'CI', thinkbayes.CredibleInterval(suite, 90)"
   ]
  },
  {
   "cell_type": "markdown",
   "metadata": {
    "slideshow": {
     "slide_type": "slide"
    }
   },
   "source": [
    "ユーロ硬貨問題を解くには、xが50%になる確率を求めればいい？"
   ]
  },
  {
   "cell_type": "code",
   "execution_count": 10,
   "metadata": {
    "collapsed": false
   },
   "outputs": [
    {
     "name": "stdout",
     "output_type": "stream",
     "text": [
      "0.0209765261295\n"
     ]
    }
   ],
   "source": [
    "print suite.Prob(50)"
   ]
  },
  {
   "cell_type": "markdown",
   "metadata": {},
   "source": [
    "\"101個の仮説を立てたときの値\"でしかなく、領域を多くしたり少なくすれば値が変わってしまうため、この値には意味がない。"
   ]
  },
  {
   "cell_type": "markdown",
   "metadata": {
    "slideshow": {
     "slide_type": "slide"
    }
   },
   "source": [
    "### 4.3 事前確率を圧倒する"
   ]
  },
  {
   "cell_type": "markdown",
   "metadata": {},
   "source": [
    "実際のところ、コインの表裏が偏る確率は10%や90%になることはない\n",
    "なので、一様確率という仮定がよくない\n",
    "\n",
    "そこで、事前確率を50%に近いxの値については高い確率を、極端な値については低い確率を与えるようなものとする。\n",
    "\n",
    "三角事前確率を用いる"
   ]
  },
  {
   "cell_type": "code",
   "execution_count": 11,
   "metadata": {
    "collapsed": false
   },
   "outputs": [],
   "source": [
    "def TrianglePrior():\n",
    "    suite = Euro()\n",
    "    for x in range(0, 51):\n",
    "        suite.Set(x, x)\n",
    "\n",
    "    for x in range(51, 101):\n",
    "        suite.Set(x, 100-x)\n",
    "    suite.Normalize()\n",
    "    return suite\n"
   ]
  },
  {
   "cell_type": "code",
   "execution_count": 12,
   "metadata": {
    "collapsed": false,
    "slideshow": {
     "slide_type": "slide"
    }
   },
   "outputs": [
    {
     "data": {
      "image/png": "[encoded data removed]",
      "text/plain": [
       "<matplotlib.figure.Figure at 0x9eadf60>"
      ]
     },
     "metadata": {},
     "output_type": "display_data"
    }
   ],
   "source": [
    "suite_t = TrianglePrior()\n",
    "print_suite(suite_t)"
   ]
  },
  {
   "cell_type": "code",
   "execution_count": 13,
   "metadata": {
    "collapsed": false,
    "slideshow": {
     "slide_type": "slide"
    }
   },
   "outputs": [
    {
     "data": {
      "image/png": "[encoded data removed]",
      "text/plain": [
       "<matplotlib.figure.Figure at 0x9fffac8>"
      ]
     },
     "metadata": {},
     "output_type": "display_data"
    }
   ],
   "source": [
    "dataset = 'H' * 140 + 'T' * 110\n",
    "for data in dataset:\n",
    "    suite_t.Update(data)\n",
    "\n",
    "print_suite(suite_t)"
   ]
  },
  {
   "cell_type": "code",
   "execution_count": 14,
   "metadata": {
    "collapsed": false,
    "slideshow": {
     "slide_type": "slide"
    }
   },
   "outputs": [
    {
     "name": "stdout",
     "output_type": "stream",
     "text": [
      "Maximum likehood 56\n",
      "Mean 55.7434994386\n",
      "Median 56\n",
      "CI (51, 61)\n"
     ]
    }
   ],
   "source": [
    "print \"Maximum likehood\", suite_t.MaximumLikelihood()\n",
    "print 'Mean', suite_t.Mean()\n",
    "print 'Median', thinkbayes.Percentile(suite_t, 50)\n",
    "print 'CI', thinkbayes.CredibleInterval(suite_t, 90)"
   ]
  },
  {
   "cell_type": "code",
   "execution_count": 15,
   "metadata": {
    "collapsed": false,
    "slideshow": {
     "slide_type": "slide"
    }
   },
   "outputs": [
    {
     "name": "stdout",
     "output_type": "stream",
     "text": [
      "Maximum likehood 56 56\n",
      "Mean 55.7434994386 55.9523809524\n",
      "Median 56 56\n",
      "CI (51, 61) (51, 61)\n"
     ]
    }
   ],
   "source": [
    "print \"Maximum likehood\", suite_t.MaximumLikelihood(), suite.MaximumLikelihood()\n",
    "print 'Mean', suite_t.Mean(), suite.Mean()\n",
    "print 'Median', thinkbayes.Percentile(suite_t, 50), thinkbayes.Percentile(suite, 50)\n",
    "print 'CI', thinkbayes.CredibleInterval(suite_t, 90),thinkbayes.CredibleInterval(suite, 90),"
   ]
  },
  {
   "cell_type": "markdown",
   "metadata": {},
   "source": [
    "ほぼ一緒"
   ]
  },
  {
   "cell_type": "markdown",
   "metadata": {
    "slideshow": {
     "slide_type": "slide"
    }
   },
   "source": [
    "### 4.4最適化"
   ]
  },
  {
   "cell_type": "markdown",
   "metadata": {},
   "source": [
    "こでまでのコードを最適化してみよう"
   ]
  },
  {
   "cell_type": "markdown",
   "metadata": {
    "slideshow": {
     "slide_type": "slide"
    }
   },
   "source": [
    "これまでのコード\n",
    "\n",
    "```python\n",
    "dataset = 'H' * heads + 'T' * tails\n",
    "for data in dataset:\n",
    "    suite.Update(data)\n",
    "\n",
    "# Update\n",
    "def Update(self, data):\n",
    "    for hypo in self.Values():\n",
    "        like = self.Likelihood(data, hypo)\n",
    "        self.Mult(hypo, like)\n",
    "    return self.Normalize()\n",
    "```\n",
    "\n",
    "毎回仮説を一つずつ処理して、正規化を行っていた。\n",
    "しかし、すべて反映させてから正規化して返した方が、早い"
   ]
  },
  {
   "cell_type": "markdown",
   "metadata": {
    "slideshow": {
     "slide_type": "slide"
    }
   },
   "source": [
    "Suite には、それを行う UpdateSet というメソッドがある。\n",
    "\n",
    "```python\n",
    "def UpdateSet(self, dataset):\n",
    "    for data in dataset:\n",
    "        for hypo in self.Values():\n",
    "            like = self.Likelihood(data, hypo)\n",
    "            self.Mult(hypo, like)\n",
    "    return self.Normalize()\n",
    "```\n",
    "\n",
    "つまり、\n",
    "```python\n",
    "dataset = 'H' * heads + 'T' * tails\n",
    "suite.UpdateSet(dataset)\n",
    "```\n",
    "だけでよい"
   ]
  },
  {
   "cell_type": "markdown",
   "metadata": {
    "slideshow": {
     "slide_type": "slide"
    }
   },
   "source": [
    "しかしオーダーは試行回数nによって、左右されたままである。\n",
    "すべての試行データを一度に処理するにはどうすればいいか。\n",
    "\n",
    "→データ集合を2つの整数、表の個数と裏の個数の組としてコード化\n",
    "\n",
    "```python\n",
    "# class Euro():\n",
    "def Likelihood(self, data, hypo):\n",
    "    x = hypo / 100.0\n",
    "    heads, tails = data\n",
    "    like = x**heads * (1-x)**tails\n",
    "    return like\n",
    "```\n",
    "\n",
    "こうすることで、\n",
    "```python\n",
    "heads, tails = 140, 110\n",
    "suite.Update((heads, tails))\n",
    "```\n",
    "\n",
    "このように処理できるようになる。"
   ]
  },
  {
   "cell_type": "markdown",
   "metadata": {
    "slideshow": {
     "slide_type": "slide"
    }
   },
   "source": [
    "### 4.5 ベータ分布"
   ]
  },
  {
   "cell_type": "markdown",
   "metadata": {},
   "source": [
    "さらに高速化するために、ベータ分布が使える\n",
    "\n",
    "二項尤度関数でベイズ更新を行うとき、ベータ分布は共役事前確率\n",
    "→ xの事前確率がベータ分布であるなら、事後確率もベータ分布\n",
    "\n",
    "> ベータ分布の形は、 2 つのパラメータ、 α と β 、すわなち alpha と beta とに依存する。\n",
    "事前確率が、パラメータ alpha と beta を持つベータ分布であり、表が h 、裏が t のデー\n",
    "タであったとすれば、事後確率は、パラメータが alpha+h と beta+t を持つベータ分布\n",
    "となる。言い換えると、更新を 2 つの加算だけで行うことができる。"
   ]
  },
  {
   "cell_type": "markdown",
   "metadata": {
    "slideshow": {
     "slide_type": "slide"
    }
   },
   "source": [
    "ベータ分布を表すクラス`Beta`が存在\n",
    "デフォルトで、一様分布を作成し、`Update(data)`はベイズ更新を行う\n",
    "`Beta`には、確率密度関数を計算する`EvalPdf(x)`も存在する。\n",
    "\n",
    "よって新しい方法は下記の通りに表される。"
   ]
  },
  {
   "cell_type": "code",
   "execution_count": 16,
   "metadata": {
    "collapsed": false
   },
   "outputs": [
    {
     "name": "stdout",
     "output_type": "stream",
     "text": [
      "0.559523809524\n"
     ]
    }
   ],
   "source": [
    "beta = thinkbayes.Beta()\n",
    "beta.Update((140, 110))\n",
    "print beta.Mean()"
   ]
  },
  {
   "cell_type": "markdown",
   "metadata": {
    "slideshow": {
     "slide_type": "slide"
    }
   },
   "source": [
    "### 4.6 議論"
   ]
  },
  {
   "cell_type": "markdown",
   "metadata": {},
   "source": [
    "同じ問題で、ことなる事前確率をとったとしてもデータ集号が十分大きければ同じ値に収束する\n",
    "\n",
    "しかし、常にそうなるわけではない。\n",
    "ベイズ分析がモデル化の決定に依存する\n",
    "\n",
    "ベイズ更新において、事前確率に尤度をかけることに注意\n",
    "（Ex. Dによらず、p(H)が0ならp(H|D)も0に\n",
    "\n",
    "→クロムウェル規則\n",
    "たとえあり得ないと思っても、どの仮説にも確立0を割り当てるべきではない\n"
   ]
  },
  {
   "cell_type": "markdown",
   "metadata": {
    "slideshow": {
     "slide_type": "slide"
    }
   },
   "source": [
    "### 4.7 練習問題"
   ]
  },
  {
   "cell_type": "markdown",
   "metadata": {
    "slideshow": {
     "slide_type": "slide"
    }
   },
   "source": [
    "#### 問題1\n",
    "\n",
    "硬貨投げを直接観察する代わりに、計測装置を使って結果を測定するが、計測装置\n",
    "には間違いがあるものとする。具体的には、実際は表なのに裏であるという結果が報\n",
    "告されたり、実際は裏なのに表と報告される確率が y だとする。\n",
    "一連の結果と y の値から、硬貨の偏りを推定するクラスを書け。\n",
    "事後確率分布の広がり方は、 y にどの程度依存するか"
   ]
  },
  {
   "cell_type": "code",
   "execution_count": 45,
   "metadata": {
    "collapsed": false
   },
   "outputs": [
    {
     "data": {
      "image/png": "[encoded data removed]",
      "text/plain": [
       "<matplotlib.figure.Figure at 0x9d326d8>"
      ]
     },
     "metadata": {},
     "output_type": "display_data"
    }
   ],
   "source": [
    "from ipywidgets import interact\n",
    "import numpy as np\n",
    "\n",
    "# ここは自分で埋めて欲しい\n",
    "@interact(y=(0,1,.1))\n",
    "def f(y):\n",
    "    class Euro(Suite):\n",
    "        def Likelihood(self, data, hypo):\n",
    "            x = hypo\n",
    "            if data == 'H':\n",
    "                return x/100.0 * (1 - y) + y * (1 - x/100.0) \n",
    "            else:\n",
    "                return (1 - x/100.0) * (1-y) + y* x/100.0\n",
    "\n",
    "    dataset = \"H\" * 140 + \"T\" * 110\n",
    "    suite = Euro(range(0,100))\n",
    "    suite.UpdateSet(dataset)\n",
    "\n",
    "\n",
    "    print_suite(suite)\n",
    "\n",
    "    \n"
   ]
  },
  {
   "cell_type": "markdown",
   "metadata": {
    "slideshow": {
     "slide_type": "slide"
    }
   },
   "source": [
    "#### 問題2\n",
    "\n",
    "Reddit とは、 subreddit （板）と呼ばれる多くの専門グループからなるオンラインフォー\n",
    "ラムである。利用者は redditor と呼ばれ、オンラインの内容へのリンクやウェブページ\n",
    "を投稿する。他の redditor が、そのリンクについて投票して、高品質なリンクには、賛\n",
    "成票（ upvote ）を、よくなかったり無関係なリンクについては、反対票（ downvote ）を投\n",
    "じる。\n",
    "Dominosci が投じた問題とは、 redditor の中には信頼できる人と信頼できない人がい\n",
    "るのだが、 Reddit では、それを考慮していないということである。\n",
    "課題は、 redditor が投票するときに、その redditor の信頼度に応じてリンクの品質の\n",
    "推測値が更新され、また redditor の信頼度の推測値がリンクの品質に応じて更新され\n",
    "るようなシステムを作り出すことである。\n",
    "1 つのやり方は、リンクの品質を賛成票を生成する確率としてモデル化し、 redditor\n",
    "の信頼度を高品質なものに対して賛成票を正しく投じる確率としてモデル化することである。\n",
    "Redditor とリンクに対するクラス定義と、 redditor が投票するたびに両方のオブジェ\n",
    "クトを更新する更新関数を書け。"
   ]
  },
  {
   "cell_type": "code",
   "execution_count": 13,
   "metadata": {
    "collapsed": true
   },
   "outputs": [],
   "source": [
    "# ここは自分で埋めて欲しい"
   ]
  }
 ],
 "metadata": {
  "celltoolbar": "Slideshow",
  "kernelspec": {
   "display_name": "Python 2",
   "language": "python",
   "name": "python2"
  },
  "language_info": {
   "codemirror_mode": {
    "name": "ipython",
    "version": 2
   },
   "file_extension": ".py",
   "mimetype": "text/x-python",
   "name": "python",
   "nbconvert_exporter": "python",
   "pygments_lexer": "ipython2",
   "version": "2.7.11"
  }
 },
 "nbformat": 4,
 "nbformat_minor": 0
}
